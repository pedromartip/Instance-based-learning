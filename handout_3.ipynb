{
 "cells": [
  {
   "cell_type": "markdown",
   "metadata": {},
   "source": [
    "# <div style=\"text-align:center; color:rgba(37, 40, 80);\">11752 Machine Learning</div>\n",
    "# <div style=\"text-align:center; color:rgba(37, 40, 80);\">Master in Intelligent Systems</div>\n",
    "# <div style=\"text-align:center; color:rgba(37, 40, 80);\">Universitat de les Illes Balears</div>\n",
    "\n",
    "### <div style=\"text-align:center; color:white;\"> Handout #3: **Instance-based learning**</div>\n",
    "\n",
    "#### **Integrants:** Jason Adel Noboa Rivera, Pedro Marti Pico\n",
    "#### **Group:** 07\n",
    "\n",
    "\n",
    "\n"
   ]
  },
  {
   "cell_type": "code",
   "execution_count": 17,
   "metadata": {},
   "outputs": [],
   "source": [
    "import numpy as np\n",
    "import cvxpy as cp\n",
    "from sklearn import svm\n",
    "\n",
    "import matplotlib.pyplot as plt\n",
    "from matplotlib.patches import Circle\n",
    "from sklearn.metrics.pairwise import rbf_kernel\n",
    "import copy\n",
    "\n",
    "group = '07' "
   ]
  },
  {
   "cell_type": "code",
   "execution_count": 3,
   "metadata": {},
   "outputs": [],
   "source": [
    "def build_H(X, y): #Function to calculate the H matrix \n",
    "    H = []\n",
    "    for x1, y1 in zip(X,y):\n",
    "        rows = []\n",
    "        for x2, y2 in zip(X,y):\n",
    "            value = (y1 * y2 * np.dot(x1, x2)).item()\n",
    "            rows.append(value)\n",
    "        H.append(rows)\n",
    "    return H\n",
    "\n",
    "def calculate_w(X,y,lm): #Function to calculate w from landa's values\n",
    "    index = [i for i, lamb in enumerate(lm) if lamb[0] > 1e-6] \n",
    "    w = [0,0]\n",
    "    for i in index:\n",
    "        w += np.multiply(lm[i]*y[i],X[i])\n",
    "    return w\n",
    "\n",
    "def calculate_w0(X,y,w,lm): #Function to calculate w0 from landa's values\n",
    "    index = [i for i, lamb in enumerate(lm) if lamb[0] > 1e-6]\n",
    "    w0 = [0]\n",
    "    for i in index:\n",
    "        w0 += y[i] - w @ X[i].T #Formula is yi - w.Txi but we did in this way beacuse the disposition of the samples\n",
    "    return w0/len(index)\n",
    "    \n",
    "def plot_class(c, X, y): #Function to plot class\n",
    "    m1 = ['k', 'w']\n",
    "    m2 = ['x', 'x']\n",
    "    i = np.where(y == c)[0]\n",
    "    plt.scatter(X[i, 0], X[i, 1], c=m1[c], marker=m2[c], label=f'w{c+1}')\n",
    "\n",
    "def predictQPS(w, w0, x): #Function to predict the class with QPS\n",
    "    value = w[0]*x[0] + w[1]*x[1] + w0[0] \n",
    "    if value < 0:\n",
    "        value = [-1]\n",
    "    else:\n",
    "        value = [1]\n",
    "        \n",
    "    return value\n",
    "    "
   ]
  },
  {
   "cell_type": "markdown",
   "metadata": {},
   "source": [
    "##### T1. **Given dataset dsgg1.txt:**\n",
    "\n",
    "a)\tSolve for the SVM analytically using the Karush-Kuhn-Tucker conditions and the Wolfe dual representation making use of the quadratic programming solver and:\n",
    "\n",
    "•\tfind and report the support vectors (NOTE: due to round-off errors, it is likely none of the $λ_i$ are exactly 0, but close, e.g. $10^{-6}$), and\n",
    "\n",
    "•\tcalculate and report the resulting decision function $g(x)= w^T x+w_0.$"
   ]
  },
  {
   "cell_type": "code",
   "execution_count": 4,
   "metadata": {},
   "outputs": [
    {
     "name": "stdout",
     "output_type": "stream",
     "text": [
      "Support Vectors:\n",
      " [[-0.82782933 -0.56098003]\n",
      " [-3.89957879  2.18935727]\n",
      " [ 0.2668493   1.38880936]]\n",
      "\n",
      "g(x) = 0.61119x1 + 0.68261x2 + -0.11111\n"
     ]
    }
   ],
   "source": [
    "'''\n",
    "1. commented source code\n",
    "2. support vectors\n",
    "3. decision function \n",
    "'''\n",
    "#Import data\n",
    "task = 1\n",
    "data = np.loadtxt('ds'+group+str(task)+'.txt')\n",
    "X = data[:,0:2]\n",
    "oy = data[:,2:3] #CLass labels are 1 for w1 and 0 for w2\n",
    "\n",
    "y = copy.deepcopy(oy)\n",
    "\n",
    "for i in y:\n",
    "    if i[0] == 0:\n",
    "        i[0] = -1 #Change -1 instead 0 to execute the solver otherwise solver didn't work\n",
    "\n",
    "#Code from slides\n",
    "N = X.shape[0]\n",
    "P = build_H(X,y)\n",
    "G = -np.identity(N)\n",
    "h = np.zeros((N,1))\n",
    "A = y.reshape((1,N))\n",
    "b = 0.0\n",
    "z = cp.Variable((N,1))\n",
    "P = P + (1e-8) * np.identity(N) # for numerical stability\n",
    "prob = cp.Problem(cp.Minimize(0.5*cp.quad_form(z,P) - cp.sum(z)), \n",
    "                  [G @ z <= h, A @ z == b])\n",
    "prob.solve(solver = cp.ECOS)\n",
    "#print(prob.status)\n",
    "lm = z.value  #This are landas\n",
    "\n",
    "'''Support Vectors'''\n",
    "index = [i for i, lamb in enumerate(lm) if lamb[0] > 1e-6] #Index of values different of 0\n",
    "sv_sqp = X[index] #Obtain the support vectors\n",
    "print(f\"Support Vectors:\\n {sv_sqp}\")\n",
    "\n",
    "'''Decision function'''\n",
    "#Calculate w and w0 from landa's values\n",
    "w_sqp = calculate_w(X,y,lm)\n",
    "w0_sqp = calculate_w0(X,y,w_sqp,lm)\n",
    "\n",
    "#print(f\"w = {(w.round(5))}\")\n",
    "#print(f\"w0 = {(w0.round(5))}\")\n",
    "print(f'\\ng(x) = {w_sqp[0].round(5)}x1 + {w_sqp[1].round(5)}x2 + {w0_sqp[0].round(5)}')\n"
   ]
  },
  {
   "cell_type": "markdown",
   "metadata": {},
   "source": [
    "b)\tGenerate the following plots:\n",
    "\n",
    "•\ta first plot with the training samples, highlighting the support vectors and plotting the 2D decision curve\n",
    "\n",
    "•\ta second plot with the classification map, i.e. evaluate the decision function for a 'regular' subset (grid) of points of the feature space\n",
    "Use different markers and/or colours for each class.\n"
   ]
  },
  {
   "cell_type": "code",
   "execution_count": 5,
   "metadata": {},
   "outputs": [],
   "source": [
    "#Plot Functions\n",
    "def plot_data(X,y):\n",
    "    y = np.squeeze(y)\n",
    "\n",
    "    '''Plot the samples'''\n",
    "    X1 = X[y == 1.0]  #Points of class w1\n",
    "    X2 = X[y == -1.0]  #Points of class w2\n",
    "\n",
    "    plt.scatter(X1[:, 0], X1[:, 1], color='red', marker='x', label='W1')  #Plot points of class w1\n",
    "    plt.scatter(X2[:, 0], X2[:, 1], color='green', marker='x', label='W2')  #Plot points of class w2\n",
    "\n",
    "    plt.xlabel('$X_1$')\n",
    "    plt.ylabel('$X_2$')\n",
    "    plt.legend()\n",
    "    plt.show()\n",
    "    \n",
    "def plot_decision_func(X, y, sv, w, w0, type:str):\n",
    "\n",
    "    '''Add the circles in supported vector machines'''\n",
    "    for loc in sv: #Locate the support vectors stored in sv\n",
    "        px, py = loc\n",
    "        circle = Circle((px,py), 0.2, fill=False)\n",
    "        plt.gca().add_patch(circle)\n",
    "\n",
    "    # Set the limits of the axes for better visualization\n",
    "    plt.xlim([-6, 6])\n",
    "    plt.ylim([-6, 6])\n",
    "\n",
    "    '''Add the decision curve'''\n",
    "    #Create x values\n",
    "    x_values = np.linspace(-10, 10, 10)\n",
    "\n",
    "    # calculate corresponding y values with decision function\n",
    "    y_values = (-w[0] / w[1]) * x_values - w0[0] / w[1]\n",
    "\n",
    "    # add the decission line to the plot\n",
    "    plt.plot(x_values, y_values)\n",
    "\n",
    "    '''Add the segmented lines'''\n",
    "    #Calculate the distance of the segmented line: 1/||w||\n",
    "    d = 1/np.linalg.norm(w) \n",
    "\n",
    "    #Calculate y values for the segmented lines\n",
    "    y_values_segmented_line1 = y_values + d / np.sqrt(w[0]**2 + w[1]**2)\n",
    "    y_values_segmented_line2 = y_values - d / np.sqrt(w[0]**2 + w[1]**2)\n",
    "\n",
    "    #Add the segmented lines to the plot\n",
    "    plt.plot(x_values, y_values_segmented_line1, '--', color = 'grey')\n",
    "    plt.plot(x_values, y_values_segmented_line2, '--', color = 'grey')\n",
    "\n",
    "    if type == 'SQP':\n",
    "        plt.title(f'Quadratic Programming Solver\\ng(x) = {w[0].round(4)}x1 + {w[1].round(4)}x2 + {w0[0].round(4)}', fontsize = 6 )\n",
    "    elif type == 'SVC':\n",
    "        plt.title(f'SVC Object\\ng(x) = {w[0].round(4)}x1 + {w[1].round(4)}x2 + {w0[0].round(4)}', fontsize = 6 )\n",
    "\n",
    "    plot_data(X, y)\n",
    "    #plt.legend()\n",
    "    #plt.show()\n",
    "\n",
    "def plot_classification_map(X, w, w0, type, model=None):\n",
    "    '''Classification map'''\n",
    "    #Code used from teacher in previous handout\n",
    "    x1lim = [X[:, 0].min(), X[:, 0].max()]\n",
    "    x2lim = [X[:, 1].min(), X[:, 1].max()]\n",
    "\n",
    "    npts = 100\n",
    "    x1s = np.linspace(x1lim[0], x1lim[1], npts)\n",
    "    x2s = np.linspace(x2lim[0], x2lim[1], npts)\n",
    "\n",
    "    if type == 'SVC':\n",
    "        model = model\n",
    "\n",
    "    m = np.zeros((npts, npts))\n",
    "    for k1, x1 in enumerate(x1s):\n",
    "        for k2, x2 in enumerate(x2s):\n",
    "            x = np.array([x1, x2])\n",
    "            if type == 'SVC':\n",
    "                prediction = model.predict([x]) # For fix the deprecation error\n",
    "            else:\n",
    "                prediction = predictQPS(w,w0,x) #Predict the model with our function\n",
    "            m[k1, k2] = prediction[0]\n",
    "\n",
    "    plt.figure()\n",
    "    plt.imshow(m.T, cmap='RdYlGn', origin='lower', extent=(x1lim[0]-1, x1lim[1]+1, x2lim[0]-1, x2lim[1]+1))\n",
    "    for c in range(2):  # Assuming binary classification. Change if more classes.\n",
    "        plot_class(c, X, oy)\n",
    "    plt.xlabel('$X_1$')\n",
    "    plt.ylabel('$X_2$')\n",
    "    plt.legend()\n",
    "    plt.show()"
   ]
  },
  {
   "cell_type": "code",
   "execution_count": 6,
   "metadata": {},
   "outputs": [
    {
     "data": {
      "image/png": "[encoded data removed]",
      "text/plain": [
       "<Figure size 640x480 with 1 Axes>"
      ]
     },
     "metadata": {},
     "output_type": "display_data"
    },
    {
     "data": {
      "image/png": "[encoded data removed]",
      "text/plain": [
       "<Figure size 640x480 with 1 Axes>"
      ]
     },
     "metadata": {},
     "output_type": "display_data"
    }
   ],
   "source": [
    "'''\n",
    "1. commented source code\n",
    "2. plot with samples and contour corresponding to the decision function\n",
    "3. classification map\n",
    "'''\n",
    "plot_decision_func(X,y,sv_sqp,w_sqp,w0_sqp,'SQP')\n",
    "plot_classification_map(X,w_sqp,w0_sqp,'SQP')"
   ]
  },
  {
   "cell_type": "markdown",
   "metadata": {},
   "source": [
    "c)\tCompare the results obtained with the ones resulting from the scikit-learn SVC object: i.e. report the support vectors returned by SVC and the corresponding decision function."
   ]
  },
  {
   "cell_type": "code",
   "execution_count": 7,
   "metadata": {},
   "outputs": [
    {
     "name": "stdout",
     "output_type": "stream",
     "text": [
      "Support Vectors:\n",
      " [[-0.82782933 -0.56098003]\n",
      " [-3.89957879  2.18935727]\n",
      " [ 0.2668493   1.38880936]]\n",
      "\n",
      "g(x) = 0.61098x1 + 0.68238x2 + -0.11119\n"
     ]
    },
    {
     "data": {
      "image/png": "[encoded data removed]",
      "text/plain": [
       "<Figure size 640x480 with 1 Axes>"
      ]
     },
     "metadata": {},
     "output_type": "display_data"
    },
    {
     "data": {
      "image/png": "[encoded data removed]",
      "text/plain": [
       "<Figure size 640x480 with 1 Axes>"
      ]
     },
     "metadata": {},
     "output_type": "display_data"
    },
    {
     "name": "stdout",
     "output_type": "stream",
     "text": [
      "                                 MODEL COMPARATION                                \n",
      "----------------------------------------------------------------------------------\n",
      "                SQP Model               |                SVC Model                \n",
      "                                 Support Vectors                                  \n",
      "       [-0.82782933 -0.56098003]        |          [-0.82782933 -0.56098003]         \n",
      "       [-3.89957879  2.18935727]        |          [-3.89957879  2.18935727]         \n",
      "        [0.2668493  1.38880936]         |           [0.2668493  1.38880936]      \n",
      "                               Decision function                 \n",
      "g(x) = 0.61119x1 + 0.68261x2 + -0.11111 | g(x) = 0.61098x1 + 0.68238x2 + -0.11119\n"
     ]
    }
   ],
   "source": [
    "'''\n",
    "1. commented source code\n",
    "2. support vectors\n",
    "3. decision function\n",
    "4. plot with samples and contour corresponding to the decision function\n",
    "5. classification map\n",
    "'''\n",
    "y = np.squeeze(y)\n",
    "\n",
    "clf = svm.SVC(C = 1e16, kernel = 'linear')\n",
    "clf.fit(X, y)\n",
    "\n",
    "sv = clf.support_vectors_\n",
    "w = clf.coef_.flatten()\n",
    "w0 = clf.intercept_\n",
    "lm = clf.dual_coef_.flatten()\n",
    "\n",
    "print(f\"Support Vectors:\\n {sv}\")\n",
    "print(f'\\ng(x) = {w[0].round(5)}x1 + {w[1].round(5)}x2 + {w0[0].round(5)}')\n",
    "\n",
    "plot_decision_func(X,y,sv,w,w0,'SVC')\n",
    "plot_classification_map(X,w,w0,'SVC',clf)\n",
    "\n",
    "#Comparation between both models\n",
    "print(\"                                 MODEL COMPARATION                                \")\n",
    "print(\"----------------------------------------------------------------------------------\")\n",
    "print(\"                SQP Model               |                SVC Model                \")\n",
    "print(\"                                 Support Vectors                                  \")\n",
    "print(f\"       {sv_sqp[0]}        |          {sv[0]}         \")\n",
    "print(f\"       {sv_sqp[1]}        |          {sv[1]}         \")\n",
    "print(f\"        {sv_sqp[2]}         |           {sv[2]}      \")\n",
    "print(\"                               Decision function                 \")\n",
    "print(f'g(x) = {w_sqp[0].round(5)}x1 + {w_sqp[1].round(5)}x2 + {w0_sqp[0].round(5)} | g(x) = {w[0].round(5)}x1 + {w[1].round(5)}x2 + {w0[0].round(5)}')\n",
    "\n"
   ]
  },
  {
   "cell_type": "markdown",
   "metadata": {},
   "source": [
    "##### T2. **Given dataset dsgg2.txt:**\n",
    "\n",
    "a)Mapping the training samples $x=(x_1,x_2)$ onto an alternative 2-dimensional space using $Φ(x)=(x_1 x_2,{x_1}^2+{x_2}^2)$, solve for the SVM analytically using the quadratic programming solver and\n",
    "\n",
    "  •\tfind and report the support vectors in the original space, and\n",
    "\n",
    "  •\tcalculate and report the resulting decision function both in the transformed space          $g_1(x')=w^T x'+w_0 [x'=Φ(x)]$ and in the original space $g_2 (x)=w^T Φ(x)+w_0$."
   ]
  },
  {
   "cell_type": "code",
   "execution_count": 21,
   "metadata": {},
   "outputs": [
    {
     "name": "stderr",
     "output_type": "stream",
     "text": [
      "c:\\Users\\ca01770\\Anaconda3\\envs\\AIV_UIB\\Lib\\site-packages\\cvxpy\\reductions\\solvers\\solving_chain.py:226: UserWarning: You are solving a parameterized problem that is not DPP. Because the problem is not DPP, subsequent solves will not be faster than the first one. For more information, see the documentation on Discplined Parametrized Programming, at\n",
      "\thttps://www.cvxpy.org/tutorial/advanced/index.html#disciplined-parametrized-programming\n",
      "  warnings.warn(DPP_ERROR_MSG)\n"
     ]
    },
    {
     "ename": "IndexError",
     "evalue": "arrays used as indices must be of integer (or boolean) type",
     "output_type": "error",
     "traceback": [
      "\u001b[1;31m---------------------------------------------------------------------------\u001b[0m",
      "\u001b[1;31mIndexError\u001b[0m                                Traceback (most recent call last)",
      "Cell \u001b[1;32mIn[21], line 49\u001b[0m\n\u001b[0;32m     45\u001b[0m xx, yy \u001b[38;5;241m=\u001b[39m np\u001b[38;5;241m.\u001b[39mmeshgrid(np\u001b[38;5;241m.\u001b[39mlinspace(X[:, \u001b[38;5;241m0\u001b[39m]\u001b[38;5;241m.\u001b[39mmin()\u001b[38;5;241m-\u001b[39m\u001b[38;5;241m1\u001b[39m, X[:, \u001b[38;5;241m0\u001b[39m]\u001b[38;5;241m.\u001b[39mmax()\u001b[38;5;241m+\u001b[39m\u001b[38;5;241m1\u001b[39m, \u001b[38;5;241m500\u001b[39m),\n\u001b[0;32m     46\u001b[0m                      np\u001b[38;5;241m.\u001b[39mlinspace(X[:, \u001b[38;5;241m1\u001b[39m]\u001b[38;5;241m.\u001b[39mmin()\u001b[38;5;241m-\u001b[39m\u001b[38;5;241m1\u001b[39m, X[:, \u001b[38;5;241m1\u001b[39m]\u001b[38;5;241m.\u001b[39mmax()\u001b[38;5;241m+\u001b[39m\u001b[38;5;241m1\u001b[39m, \u001b[38;5;241m500\u001b[39m))\n\u001b[0;32m     48\u001b[0m \u001b[38;5;66;03m# Evaluation of decision function in the grid\u001b[39;00m\n\u001b[1;32m---> 49\u001b[0m Z \u001b[38;5;241m=\u001b[39m np\u001b[38;5;241m.\u001b[39msum(lambdas[sv]\u001b[38;5;241m.\u001b[39mastype(\u001b[38;5;28mint\u001b[39m) \u001b[38;5;241m*\u001b[39m sv_indices \u001b[38;5;241m*\u001b[39m rbf_kernel(X[sv]\u001b[38;5;241m.\u001b[39mastype(\u001b[38;5;28mint\u001b[39m), X)) \u001b[38;5;241m+\u001b[39m w0\n\u001b[0;32m     50\u001b[0m Z \u001b[38;5;241m=\u001b[39m Z\u001b[38;5;241m.\u001b[39mreshape(xx\u001b[38;5;241m.\u001b[39mshape)\n\u001b[0;32m     52\u001b[0m \u001b[38;5;66;03m# Visualización\u001b[39;00m\n",
      "\u001b[1;31mIndexError\u001b[0m: arrays used as indices must be of integer (or boolean) type"
     ]
    }
   ],
   "source": [
    "'''\n",
    "1. commented source code\n",
    "2. support vectors\n",
    "3. decision functions\n",
    "'''\n",
    "#Import data\n",
    "task = 2\n",
    "data = np.loadtxt('ds'+group+str(task)+'.txt')\n",
    "X = data[:,0:2]\n",
    "oy = data[:,2:3] #CLass labels are 1 for w1 and 0 for w2\n",
    "\n",
    "y = copy.deepcopy(oy)\n",
    "\n",
    "# Convert the labels to -1 y 1\n",
    "y = np.where(y == 0, -1, 1)\n",
    "\n",
    "#Building kernel matrix\n",
    "gamma = 0.1\n",
    "K = np.outer(y,y)*rbf_kernel(X,X,gamma)\n",
    "\n",
    "# Cuadratic problem configuration\n",
    "N = X.shape[0]\n",
    "lambda_var = cp.Variable(N)\n",
    "P = cp.Parameter((N, N), PSD=True)\n",
    "P.value = K\n",
    "q = -np.ones(N)\n",
    "G = -np.eye(N)\n",
    "h = np.zeros(N)\n",
    "A = y.reshape(1, -1)\n",
    "b = np.zeros(1)\n",
    "\n",
    "#Defining the problem\n",
    "problem = cp.Problem(cp.Minimize((1/2)*cp.quad_form(lambda_var, P) + q.T @ lambda_var),\n",
    "                     [G @ lambda_var <= h, A @ lambda_var == b])\n",
    "\n",
    "problem.solve() # Resolve the problem\n",
    "lambdas = lambda_var.value # Extracting lambda vector\n",
    "sv_indices = np.where(lambdas > 1e-5)[0] #Identification of support vectors\n",
    "\n",
    "# Calction of w0 using a support vectorutilizando un vector de soporte\n",
    "selected_sv = sv_indices[0]\n",
    "w0 = 1/y[selected_sv] - np.sum(lambdas[sv_indices] * K[selected_sv, sv_indices])\n",
    "\n",
    "# Visualisation grid\n",
    "xx, yy = np.meshgrid(np.linspace(X[:, 0].min()-1, X[:, 0].max()+1, 500),\n",
    "                     np.linspace(X[:, 1].min()-1, X[:, 1].max()+1, 500))\n",
    "\n",
    "# Evaluation of decision function in the grid\n",
    "Z = np.sum(lambdas[sv].astype(int) * sv_indices * rbf_kernel(X[sv].astype(int), X)) + w0\n",
    "Z = Z.reshape(xx.shape)\n",
    "\n",
    "# Visualización\n",
    "plt.figure(figsize=(10, 6))\n",
    "plt.contourf(xx, yy, Z, levels=[-1, 0, 1], alpha=0.8, linestyles=['--', '-', '--'])\n",
    "plt.scatter(X[:, 0], X[:, 1], c=oy, cmap=plt.cm.coolwarm, s=50, edgecolors='k')\n",
    "plt.scatter(X[sv_indices, 0], X[sv_indices, 1], s=100, linewidth=1, facecolors='none', edgecolors='k')\n",
    "plt.title(\"SVM no lineal con Kernel RBF\")\n",
    "plt.xlabel('Característica 1')\n",
    "plt.ylabel('Característica 2')\n",
    "plt.show()"
   ]
  },
  {
   "cell_type": "code",
   "execution_count": 9,
   "metadata": {},
   "outputs": [],
   "source": [
    "#This is a non-linear SVM problem"
   ]
  },
  {
   "cell_type": "markdown",
   "metadata": {},
   "source": [
    "b)\tGenerate the following plots:\n",
    "\n",
    "•\ta first plot with the training samples in the transformed space, highlighting the support vectors and plotting the 2D decision curve;\n",
    "\n",
    "•\ta second plot with the training samples in the original space, highlighting the support vectors and plotting the 2D decision curve; and\n",
    "\n",
    "•\ta third plot with the classification map in the original space, i.e. evaluate the decision function for a ’regular’ subset (grid) of points.\n"
   ]
  },
  {
   "cell_type": "code",
   "execution_count": 10,
   "metadata": {},
   "outputs": [
    {
     "data": {
      "text/plain": [
       "'\\nUse different markers and/or colours for each class.\\n1. commented source code\\n2. plots with samples and contour corresponding to the decision function\\n3. classification map\\n'"
      ]
     },
     "execution_count": 10,
     "metadata": {},
     "output_type": "execute_result"
    }
   ],
   "source": [
    "'''\n",
    "Use different markers and/or colours for each class.\n",
    "1. commented source code\n",
    "2. plots with samples and contour corresponding to the decision function\n",
    "3. classification map\n",
    "'''"
   ]
  },
  {
   "cell_type": "markdown",
   "metadata": {},
   "source": [
    "c)\tCompare the results obtained with the ones resulting from the scikit-learn SVC object: i.e. report the support vectors returned by SVC and the corresponding decision function."
   ]
  },
  {
   "cell_type": "code",
   "execution_count": 11,
   "metadata": {},
   "outputs": [
    {
     "data": {
      "text/plain": [
       "'\\n1. commented source code\\n2. support vectors\\n3. decision function\\n4. plot with samples and contour corresponding to the decision function\\n5. classification map\\n'"
      ]
     },
     "execution_count": 11,
     "metadata": {},
     "output_type": "execute_result"
    }
   ],
   "source": [
    "'''\n",
    "1. commented source code\n",
    "2. support vectors\n",
    "3. decision function\n",
    "4. plot with samples and contour corresponding to the decision function\n",
    "5. classification map\n",
    "'''"
   ]
  },
  {
   "cell_type": "markdown",
   "metadata": {},
   "source": [
    "d) Also by means of the scikit-learn SVC object, repeat point c) for the 'rbf' kernel. Additionally, draw the corresponding RBF network (slide 42 of the SVM lecture notes, replacing $K(x_i,x)$, $λ_i$ and $y_i$ by your values)."
   ]
  },
  {
   "cell_type": "code",
   "execution_count": 12,
   "metadata": {},
   "outputs": [
    {
     "data": {
      "text/plain": [
       "'\\n1. commented source code\\n2. support vectors\\n3. plot with samples and contour corresponding to the decision function\\n4. classification map\\n5. RBF network\\n'"
      ]
     },
     "execution_count": 12,
     "metadata": {},
     "output_type": "execute_result"
    }
   ],
   "source": [
    "'''\n",
    "1. commented source code\n",
    "2. support vectors\n",
    "3. plot with samples and contour corresponding to the decision function\n",
    "4. classification map\n",
    "5. RBF network\n",
    "'''"
   ]
  },
  {
   "cell_type": "markdown",
   "metadata": {},
   "source": [
    "##### T3. **T3.\tGiven dataset dsgg3tr.txt/dsgg3te.txt**, find a suitable k-Nearest Neighbour (k-NN) classifier to adequately address the involved task.\n",
    "\n",
    "a) Define the design strategy: combinations of hyper-parameters considered (number of neighbours and distance function), tuning approach (folds and repetitions).\n",
    "\n",
    "b)\tUsing the training dataset, find the best performing classifier according to the design strategy and employing the accuracy as performance metric for the cross-validation process."
   ]
  },
  {
   "cell_type": "code",
   "execution_count": 13,
   "metadata": {},
   "outputs": [
    {
     "data": {
      "text/plain": [
       "'\\n1. commented source code (for a & b above)\\n2. resulting configuration\\n'"
      ]
     },
     "execution_count": 13,
     "metadata": {},
     "output_type": "execute_result"
    }
   ],
   "source": [
    "'''\n",
    "1. commented source code (for a & b above)\n",
    "2. resulting configuration\n",
    "'''"
   ]
  },
  {
   "cell_type": "markdown",
   "metadata": {},
   "source": [
    "c)\tPlot the training samples on top of the classification map, i.e. evaluate the decision function for a ’regular’ subset (grid) of points of the feature space (use different markers and/or colours for each class)."
   ]
  },
  {
   "cell_type": "code",
   "execution_count": 14,
   "metadata": {},
   "outputs": [
    {
     "data": {
      "text/plain": [
       "'\\n1. commented source code\\n2. classification map with training samples plotted\\n'"
      ]
     },
     "execution_count": 14,
     "metadata": {},
     "output_type": "execute_result"
    }
   ],
   "source": [
    "'''\n",
    "1. commented source code\n",
    "2. classification map with training samples plotted\n",
    "'''"
   ]
  },
  {
   "cell_type": "markdown",
   "metadata": {},
   "source": [
    "d)\tReport on the classifier performance using the test dataset:\n",
    "\n",
    "•\tmeasure the test accuracy, test precision, test recall and test f1-score, and\n",
    "\n",
    "•\tin a single figure, plot the test samples over the already calculated classification map (use different markers and/or colours for each class).\n"
   ]
  },
  {
   "cell_type": "code",
   "execution_count": 15,
   "metadata": {},
   "outputs": [
    {
     "data": {
      "text/plain": [
       "'\\n1. commented source code\\n2. test accuracy, test precision, test recall and test f1-score\\n3. classification map with test samples plotted\\n'"
      ]
     },
     "execution_count": 15,
     "metadata": {},
     "output_type": "execute_result"
    }
   ],
   "source": [
    "'''\n",
    "1. commented source code\n",
    "2. test accuracy, test precision, test recall and test f1-score\n",
    "3. classification map with test samples plotted\n",
    "'''"
   ]
  },
  {
   "cell_type": "markdown",
   "metadata": {},
   "source": [
    "e)\tObtain an improved estimation of the accuracy, precision, recall and f1-score measures by means of repeated, n-fold cross-validation. To this end, put together the training and test datasets, so that the corresponding function can build the folds from all available data."
   ]
  },
  {
   "cell_type": "code",
   "execution_count": 16,
   "metadata": {},
   "outputs": [
    {
     "data": {
      "text/plain": [
       "'\\n1. commented source code\\n2. accuracy, precision, recall and f1-score\\n'"
      ]
     },
     "execution_count": 16,
     "metadata": {},
     "output_type": "execute_result"
    }
   ],
   "source": [
    "'''\n",
    "1. commented source code\n",
    "2. accuracy, precision, recall and f1-score\n",
    "'''"
   ]
  }
 ],
 "metadata": {
  "kernelspec": {
   "display_name": "Python 3",
   "language": "python",
   "name": "python3"
  },
  "language_info": {
   "codemirror_mode": {
    "name": "ipython",
    "version": 3
   },
   "file_extension": ".py",
   "mimetype": "text/x-python",
   "name": "python",
   "nbconvert_exporter": "python",
   "pygments_lexer": "ipython3",
   "version": "3.11.5"
  }
 },
 "nbformat": 4,
 "nbformat_minor": 2
}
