{
 "cells": [
  {
   "cell_type": "markdown",
   "metadata": {},
   "source": [
    "# <div style=\"text-align:center; color:rgba(37, 40, 80);\">11752 Machine Learning</div>\n",
    "# <div style=\"text-align:center; color:rgba(37, 40, 80);\">Master in Intelligent Systems</div>\n",
    "# <div style=\"text-align:center; color:rgba(37, 40, 80);\">Universitat de les Illes Balears</div>\n",
    "\n",
    "### <div style=\"text-align:center; color:white;\"> Handout #2: **Supervised learning**</div>\n",
    "\n",
    "#### **Integrants:** Jason Adel Noboa Rivera, Pedro Marti Pico\n",
    "#### **Group:** 07\n",
    "\n",
    "##### T1. **Given dataset dsgg1.txt:**\n",
    "\n",
    "a)\tSolve for the SVM analytically using the Karush-Kuhn-Tucker conditions and the Wolfe dual representation making use of the quadratic programming solver and:\n",
    "\n",
    "•\tfind and report the support vectors (NOTE: due to round-off errors, it is likely none of the λ_i are exactly 0, but close, e.g. 10^(-6)), and\n",
    "\n",
    "•\tcalculate and report the resulting decision function g(x)=w^T x+w_0.\n",
    "\n"
   ]
  },
  {
   "cell_type": "code",
   "execution_count": 13,
   "metadata": {},
   "outputs": [],
   "source": [
    "import numpy as np\n",
    "import cvxpy as cp\n",
    "from sklearn import svm\n",
    "\n",
    "import matplotlib.pyplot as plt\n",
    "from matplotlib.patches import Circle"
   ]
  },
  {
   "cell_type": "code",
   "execution_count": 21,
   "metadata": {},
   "outputs": [],
   "source": [
    "'''\n",
    "1. commented source code\n",
    "2. support vectors\n",
    "3. decision function \n",
    "'''\n",
    "group = '07' \n",
    "\n",
    "task = 1\n",
    "data = np.loadtxt('ds'+group+str(task)+'.txt')\n",
    "X = data[:,0:2]\n",
    "y = data[:,2:3] #CLass labels are 1 for w1 and 0 for w2\n"
   ]
  },
  {
   "cell_type": "code",
   "execution_count": 22,
   "metadata": {},
   "outputs": [
    {
     "data": {
      "text/plain": [
       "array([[0.],\n",
       "       [0.],\n",
       "       [0.],\n",
       "       [0.],\n",
       "       [0.],\n",
       "       [0.],\n",
       "       [0.],\n",
       "       [0.],\n",
       "       [1.],\n",
       "       [1.],\n",
       "       [1.],\n",
       "       [1.],\n",
       "       [1.],\n",
       "       [1.],\n",
       "       [1.],\n",
       "       [1.]])"
      ]
     },
     "execution_count": 22,
     "metadata": {},
     "output_type": "execute_result"
    }
   ],
   "source": [
    "y"
   ]
  },
  {
   "cell_type": "markdown",
   "metadata": {},
   "source": [
    "b)\tGenerate the following plots:\n",
    "\n",
    "•\ta first plot with the training samples, highlighting the support vectors and plotting the 2D decision curve\n",
    "\n",
    "•\ta second plot with the classification map, i.e. evaluate the decision function for a 'regular' subset (grid) of points of the feature space\n",
    "Use different markers and/or colours for each class.\n"
   ]
  },
  {
   "cell_type": "code",
   "execution_count": null,
   "metadata": {},
   "outputs": [],
   "source": [
    "'''\n",
    "1. commented source code\n",
    "2. plot with samples and contour corresponding to the decision function\n",
    "3. classification map\n",
    "'''"
   ]
  },
  {
   "cell_type": "markdown",
   "metadata": {},
   "source": [
    "c)\tCompare the results obtained with the ones resulting from the scikit-learn SVC object: i.e. report the support vectors returned by SVC and the corresponding decision function."
   ]
  },
  {
   "cell_type": "code",
   "execution_count": 23,
   "metadata": {},
   "outputs": [
    {
     "name": "stderr",
     "output_type": "stream",
     "text": [
      "C:\\Users\\jaadn\\AppData\\Local\\Packages\\PythonSoftwareFoundation.Python.3.11_qbz5n2kfra8p0\\LocalCache\\local-packages\\Python311\\site-packages\\sklearn\\utils\\validation.py:1183: DataConversionWarning: A column-vector y was passed when a 1d array was expected. Please change the shape of y to (n_samples, ), for example using ravel().\n",
      "  y = column_or_1d(y, warn=True)\n"
     ]
    },
    {
     "ename": "IndexError",
     "evalue": "boolean index did not match indexed array along dimension 1; dimension is 2 but corresponding boolean dimension is 1",
     "output_type": "error",
     "traceback": [
      "\u001b[1;31m---------------------------------------------------------------------------\u001b[0m",
      "\u001b[1;31mIndexError\u001b[0m                                Traceback (most recent call last)",
      "Cell \u001b[1;32mIn[23], line 22\u001b[0m\n\u001b[0;32m     20\u001b[0m \u001b[38;5;250m\u001b[39m\u001b[38;5;124;03m'''Plot the samples'''\u001b[39;00m\n\u001b[0;32m     21\u001b[0m \u001b[38;5;66;03m# assuming X is your data and y are your labels\u001b[39;00m\n\u001b[1;32m---> 22\u001b[0m X1 \u001b[38;5;241m=\u001b[39m \u001b[43mX\u001b[49m\u001b[43m[\u001b[49m\u001b[43my\u001b[49m\u001b[43m \u001b[49m\u001b[38;5;241;43m==\u001b[39;49m\u001b[43m \u001b[49m\u001b[43m[\u001b[49m\u001b[38;5;241;43m1.0\u001b[39;49m\u001b[43m]\u001b[49m\u001b[43m]\u001b[49m  \u001b[38;5;66;03m# points of class w1\u001b[39;00m\n\u001b[0;32m     23\u001b[0m X2 \u001b[38;5;241m=\u001b[39m X[y \u001b[38;5;241m==\u001b[39m [\u001b[38;5;241m0.0\u001b[39m]]  \u001b[38;5;66;03m# points of class w2\u001b[39;00m\n\u001b[0;32m     25\u001b[0m plt\u001b[38;5;241m.\u001b[39mscatter(X1[:, \u001b[38;5;241m0\u001b[39m], X1[:, \u001b[38;5;241m1\u001b[39m], color\u001b[38;5;241m=\u001b[39m\u001b[38;5;124m'\u001b[39m\u001b[38;5;124mred\u001b[39m\u001b[38;5;124m'\u001b[39m, marker\u001b[38;5;241m=\u001b[39m\u001b[38;5;124m'\u001b[39m\u001b[38;5;124mx\u001b[39m\u001b[38;5;124m'\u001b[39m, label\u001b[38;5;241m=\u001b[39m\u001b[38;5;124m'\u001b[39m\u001b[38;5;124mW1\u001b[39m\u001b[38;5;124m'\u001b[39m)  \u001b[38;5;66;03m# plot points of class 0\u001b[39;00m\n",
      "\u001b[1;31mIndexError\u001b[0m: boolean index did not match indexed array along dimension 1; dimension is 2 but corresponding boolean dimension is 1"
     ]
    }
   ],
   "source": [
    "'''\n",
    "1. commented source code\n",
    "2. support vectors\n",
    "3. decision function\n",
    "4. plot with samples and contour corresponding to the decision function\n",
    "5. classification map\n",
    "'''\n",
    "\n",
    "Cs = [0.1, 100.0]\n",
    "\n",
    "for C in Cs:\n",
    "    clf = svm.SVC(C = C, kernel = 'linear')\n",
    "    clf.fit(X, y)\n",
    "\n",
    "    sv = clf.support_vectors_\n",
    "    w = clf.coef_.flatten()\n",
    "    w0 = clf.intercept_\n",
    "    lm = clf.dual_coef_.flatten()\n",
    "\n",
    "    '''Plot the samples'''\n",
    "    # assuming X is your data and y are your labels\n",
    "    X1 = X[y == [1.0]]  # points of class w1\n",
    "    X2 = X[y == [0.0]]  # points of class w2\n",
    "\n",
    "    plt.scatter(X1[:, 0], X1[:, 1], color='red', marker='x', label='W1')  # plot points of class 0\n",
    "    plt.scatter(X2[:, 0], X2[:, 1], color='green', marker='x', label='W2')  # plot points of class 1\n",
    "\n",
    "    '''Add the circles in supported vector machines'''\n",
    "    for loc in sv:\n",
    "        px, py = loc\n",
    "        circle = Circle((px,py), 0.2, fill=False)\n",
    "        plt.gca().add_patch(circle)\n",
    "\n",
    "    # set the limits of the axes\n",
    "    plt.xlim([-5, 9])\n",
    "    plt.ylim([-3, 7])\n",
    "\n",
    "    '''Add the decision curve'''\n",
    "    x_values = np.linspace(-10, 10, 10)\n",
    "\n",
    "    # calculate corresponding y values\n",
    "    y_values = (-w[0] / w[1]) * x_values - w0[0] / w[1]\n",
    "\n",
    "    '''Add the segmented lines'''\n",
    "    #Calculate the distance of the segmented line: 1/||w||\n",
    "    d = 1/np.linalg.norm(w) \n",
    "\n",
    "    # calculate y values for the segmented lines\n",
    "    y_values_segmented_line1 = y_values + d / np.sqrt(w[0]**2 + w[1]**2)\n",
    "    y_values_segmented_line2 = y_values - d / np.sqrt(w[0]**2 + w[1]**2)\n",
    "\n",
    "    # add the segmented lines to the plot\n",
    "    plt.plot(x_values, y_values_segmented_line1, '--', color = 'grey')\n",
    "    plt.plot(x_values, y_values_segmented_line2, '--', color = 'grey')\n",
    "\n",
    "    # add the line to the plot\n",
    "    plt.plot(x_values, y_values)\n",
    "\n",
    "\n",
    "    plt.xlabel('Feature 1')\n",
    "    plt.ylabel('Feature 2')\n",
    "    plt.title(f'C = {C} | {w[0]}x1 + {w[1]}x2 + {w0[0]} = 0', fontsize = 6 )\n",
    "    plt.legend()\n",
    "    plt.show()"
   ]
  },
  {
   "cell_type": "code",
   "execution_count": null,
   "metadata": {},
   "outputs": [],
   "source": []
  }
 ],
 "metadata": {
  "kernelspec": {
   "display_name": "Python 3",
   "language": "python",
   "name": "python3"
  },
  "language_info": {
   "codemirror_mode": {
    "name": "ipython",
    "version": 3
   },
   "file_extension": ".py",
   "mimetype": "text/x-python",
   "name": "python",
   "nbconvert_exporter": "python",
   "pygments_lexer": "ipython3",
   "version": "3.11.7"
  }
 },
 "nbformat": 4,
 "nbformat_minor": 2
}
