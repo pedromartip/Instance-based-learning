{
 "cells": [
  {
   "cell_type": "markdown",
   "metadata": {},
   "source": [
    "# <div style=\"text-align:center; color:rgba(37, 40, 80);\">11752 Machine Learning</div>\n",
    "# <div style=\"text-align:center; color:rgba(37, 40, 80);\">Master in Intelligent Systems</div>\n",
    "# <div style=\"text-align:center; color:rgba(37, 40, 80);\">Universitat de les Illes Balears</div>\n",
    "\n",
    "### <div style=\"text-align:center; color:white;\"> Handout #2: **Supervised learning**</div>\n",
    "\n",
    "#### **Integrants:** Jason Adel Noboa Rivera, Pedro Marti Pico\n",
    "#### **Group:** 07\n",
    "\n",
    "##### T1. **Given dataset dsgg1.txt:**\n",
    "\n",
    "a)\tSolve for the SVM analytically using the Karush-Kuhn-Tucker conditions and the Wolfe dual representation making use of the quadratic programming solver and:\n",
    "\n",
    "•\tfind and report the support vectors (NOTE: due to round-off errors, it is likely none of the λ_i are exactly 0, but close, e.g. 10^(-6)), and\n",
    "\n",
    "•\tcalculate and report the resulting decision function g(x)=w^T x+w_0.\n",
    "\n"
   ]
  },
  {
   "cell_type": "code",
   "execution_count": 1,
   "metadata": {},
   "outputs": [],
   "source": [
    "'''\n",
    "1. commented source code\n",
    "2. support vectors\n",
    "3. decision function \n",
    "'''\n"
   ]
  },
  {
   "cell_type": "markdown",
   "metadata": {},
   "source": [
    "b)\tGenerate the following plots:\n",
    "\n",
    "•\ta first plot with the training samples, highlighting the support vectors and plotting the 2D decision curve\n",
    "\n",
    "•\ta second plot with the classification map, i.e. evaluate the decision function for a 'regular' subset (grid) of points of the feature space\n",
    "Use different markers and/or colours for each class.\n"
   ]
  },
  {
   "cell_type": "code",
   "execution_count": null,
   "metadata": {},
   "outputs": [],
   "source": [
    "'''\n",
    "1. commented source code\n",
    "2. plot with samples and contour corresponding to the decision function\n",
    "3. classification map\n",
    "'''"
   ]
  },
  {
   "cell_type": "markdown",
   "metadata": {},
   "source": [
    "c)\tCompare the results obtained with the ones resulting from the scikit-learn SVC object: i.e. report the support vectors returned by SVC and the corresponding decision function."
   ]
  },
  {
   "cell_type": "code",
   "execution_count": 2,
   "metadata": {},
   "outputs": [
    {
     "data": {
      "text/plain": [
       "'\\n1. commented source code\\n2. support vectors\\n3. decision function\\n4. plot with samples and contour corresponding to the decision function\\n5. classification map\\n'"
      ]
     },
     "execution_count": 2,
     "metadata": {},
     "output_type": "execute_result"
    }
   ],
   "source": [
    "'''\n",
    "1. commented source code\n",
    "2. support vectors\n",
    "3. decision function\n",
    "4. plot with samples and contour corresponding to the decision function\n",
    "5. classification map\n",
    "'''"
   ]
  },
  {
   "cell_type": "code",
   "execution_count": null,
   "metadata": {},
   "outputs": [],
   "source": []
  }
 ],
 "metadata": {
  "kernelspec": {
   "display_name": "Python 3",
   "language": "python",
   "name": "python3"
  },
  "language_info": {
   "codemirror_mode": {
    "name": "ipython",
    "version": 3
   },
   "file_extension": ".py",
   "mimetype": "text/x-python",
   "name": "python",
   "nbconvert_exporter": "python",
   "pygments_lexer": "ipython3",
   "version": "3.11.7"
  }
 },
 "nbformat": 4,
 "nbformat_minor": 2
}
